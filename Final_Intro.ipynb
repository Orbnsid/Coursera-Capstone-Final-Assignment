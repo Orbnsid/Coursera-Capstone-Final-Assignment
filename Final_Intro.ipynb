{
 "cells": [
  {
   "cell_type": "markdown",
   "metadata": {},
   "source": [
    "<h2>1. Introduction</h2>"
   ]
  },
  {
   "cell_type": "markdown",
   "metadata": {},
   "source": [
    "Riga is metropolis of Baltic states (Latvia, Lithuania, Estonia). It is the largest city with population of 627 thousand and around 1 million population in its metro area. It's a vibrant and active city whose citizens are quite outgoing. There are around 8 thousand international students living in the city which adds to vibrant flavour of Riga. Interest from EU and Eastern Europe tourists has been also on the rise. \\\n",
    "Since the end of previous financial crisis around 2010-2012 Riga has experienced solid economic growth, which, given increasing presence of demographic problems, translates rather strongly to wage growth. The effects of all of this can be easily observed in the menus of local restaurants - prices have visibly inflated. Demand for dining options outside home has surged. This in turn creates wide range of opportunities for new  dining ventures. \\\n",
    "The restaurant scene is quite saturated in central neighborhoods (especially, Old City and Center) and is not clear whether there are space for new ventures. Therefore the problem is to determine if there is a market for dinning places outside the center. And what could be the best neighborhood as location for new restaurant. The potential new restaurants might have two possible focuses - either late evening dining or restaurant focused on cheaper business menu lunches to serve masses.\\\n",
    "Results of this report would be compelling for food industry entrepreneurs or possibly Riga City Municipality to see which of the neighborhoods could be developed further to increase its appeal for new restaurant related business ventures.\n"
   ]
  }
 ],
 "metadata": {
  "kernelspec": {
   "display_name": "Python",
   "language": "python",
   "name": "conda-env-python-py"
  },
  "language_info": {
   "codemirror_mode": {
    "name": "ipython",
    "version": 3
   },
   "file_extension": ".py",
   "mimetype": "text/x-python",
   "name": "python",
   "nbconvert_exporter": "python",
   "pygments_lexer": "ipython3",
   "version": "3.6.10"
  }
 },
 "nbformat": 4,
 "nbformat_minor": 4
}
