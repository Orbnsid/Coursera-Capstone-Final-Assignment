{
 "cells": [
  {
   "cell_type": "markdown",
   "metadata": {},
   "source": [
    "<h2>2. Data</h2>"
   ]
  },
  {
   "cell_type": "markdown",
   "metadata": {},
   "source": [
    "In order to answer question posed in the Introduction section we firstly will determine which of neighborhoods of Riga are developed enough in terms of commercial, residential infrastructure but don't sufficient number of dining places. This will be achieved by collecting venues data in each neighborhood through Foursquare API. List of all venues in 750m radius from the center of neighborhood will retrieved.\\\n",
    "Additionally data on number of inhabitants and size of neighborhoods will be collected from Riga municipality home page. This will help to determine inhabitant density of neighborhoods which would be one of the measures of potential demand for dining places.\\\n",
    "Specifically to measure demand for eating places offering business menus, data on number of people employed in each neighborhood will be downloaded from Central Statistical Bureau of Latvia.\\\n",
    "Lastly, as a measure of purchasing power data on valued added (calculated as sum of profit and wages paid by the companies in neighborhoods) will be used. This data also will be downloaded from Central Statistical Bureau of Latvia. Consequently, value added per capita will be calculated. Clearly, average or median wage in each neighborhood would be more appropriate data in this case, however, it is not available."
   ]
  },
  {
   "cell_type": "code",
   "execution_count": null,
   "metadata": {},
   "outputs": [],
   "source": []
  }
 ],
 "metadata": {
  "kernelspec": {
   "display_name": "Python",
   "language": "python",
   "name": "conda-env-python-py"
  },
  "language_info": {
   "codemirror_mode": {
    "name": "ipython",
    "version": 3
   },
   "file_extension": ".py",
   "mimetype": "text/x-python",
   "name": "python",
   "nbconvert_exporter": "python",
   "pygments_lexer": "ipython3",
   "version": "3.6.10"
  }
 },
 "nbformat": 4,
 "nbformat_minor": 4
}
